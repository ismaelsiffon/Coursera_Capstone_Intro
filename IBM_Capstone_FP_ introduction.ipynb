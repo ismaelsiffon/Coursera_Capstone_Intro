{
 "cells": [
  {
   "cell_type": "markdown",
   "metadata": {},
   "source": [
    "# Introduction:\n",
    "\n",
    " Indian cuisine, one of the most flavorful cuisine in the world, has found its way in restaurants all over the world, especially in the biggest city in the US and in Europe. It is the case in London, where the so-called \"curry houses\" have gained a tremendous influence and became a popular place to eat. This fast-growing sector of the restaurant industry offers many opportunities for new restaurateurs to \n",
    "\n",
    " Despite the success of Indian cuisine in London, many other factors should be considered when opening a new restaurant. One of the most important factors is location. The choice of location is very important as it can be the determining factor of success, regardless of the quality of the food or the service.\n",
    "\n",
    " Data-driven decision making, or data science, can be very helpful in finding an adequate location. Information about potential customers, the existing demand for a particular menu, the competitiveness among restaurants, or the safety, can be analyzed in order to pick the best location.\n",
    "\n",
    " In this project, we are going to help new restaurateurs of Indian restaurants make a better decision about where to locate their restaurant. Because it is difficult, time consuming, and sometimes expensive to move a restaurant, the choice of the location should be right from the beginning. It is one of the most important decisions when opening a new restaurant and can easily be the determining factor of success of failure.\n",
    "\n",
    "# **Data:**\n",
    "\n",
    " The data used for this project can be grouped in two groups.\n",
    "\n",
    "**Demographic data of all boroughs of London:**\n",
    "This data can be found in Kaggle and is the first step of the project. For each of the 36 boroughs in London, it contains information like:\n",
    "- Population density\n",
    "- Average age\n",
    "- Largest, second and third migrant population and percentage\n",
    "- Employment rate\n",
    "- Gross annual pay\n",
    "- Crime rate, among others\n",
    "Crucial information can be revealed from the demographic analysis of London. For example, we can determine where the majority of Indians are clustered in London, or what places should be avoided because of safety concerns.\t\n",
    "\t\n",
    "**Foursquare location data:**\n",
    "Using Foursquare, we will be able to gather information about restaurants surrounding the neighborhoods or London. This part of the data is important when it comes to evaluating the competition around an area. We can retrieve information about other Indian restaurant such as: \n",
    "- The number of reviews\n",
    "- The rating\n",
    "- The price category\n"
   ]
  },
  {
   "cell_type": "code",
   "execution_count": null,
   "metadata": {},
   "outputs": [],
   "source": []
  }
 ],
 "metadata": {
  "kernelspec": {
   "display_name": "Python 3",
   "language": "python",
   "name": "python3"
  },
  "language_info": {
   "codemirror_mode": {
    "name": "ipython",
    "version": 3
   },
   "file_extension": ".py",
   "mimetype": "text/x-python",
   "name": "python",
   "nbconvert_exporter": "python",
   "pygments_lexer": "ipython3",
   "version": "3.7.4"
  }
 },
 "nbformat": 4,
 "nbformat_minor": 2
}
